{
  "nbformat": 4,
  "nbformat_minor": 0,
  "metadata": {
    "colab": {
      "provenance": [],
      "gpuType": "T4",
      "include_colab_link": true
    },
    "kernelspec": {
      "name": "python3",
      "display_name": "Python 3"
    },
    "language_info": {
      "name": "python"
    },
    "accelerator": "GPU"
  },
  "cells": [
    {
      "cell_type": "markdown",
      "metadata": {
        "id": "view-in-github",
        "colab_type": "text"
      },
      "source": [
        "<a href=\"https://colab.research.google.com/github/leoPuerto01/CS539-project/blob/main/CS_539_Project.ipynb\" target=\"_parent\"><img src=\"https://colab.research.google.com/assets/colab-badge.svg\" alt=\"Open In Colab\"/></a>"
      ]
    },
    {
      "cell_type": "code",
      "source": [
        "import pandas as pd\n",
        "import numpy as np"
      ],
      "metadata": {
        "id": "uq5eOwTFXRTO"
      },
      "execution_count": null,
      "outputs": []
    },
    {
      "cell_type": "code",
      "source": [
        "path = \"ma.xlsx\"\n",
        "df = pd.read_excel(path)\n",
        "print(df.info)\n"
      ],
      "metadata": {
        "id": "h45IJ04yks18",
        "colab": {
          "base_uri": "https://localhost:8080/"
        },
        "outputId": "863a2497-8169-48d3-e50a-112b848089d1"
      },
      "execution_count": null,
      "outputs": [
        {
          "output_type": "stream",
          "name": "stdout",
          "text": [
            "<bound method DataFrame.info of           status  bed  bath  acre_lot           city          state  zip_code  \\\n",
            "0       for_sale  3.0   2.0      0.20       Abington  Massachusetts    2351.0   \n",
            "1       for_sale  2.0   1.0       NaN       Abington  Massachusetts    2351.0   \n",
            "2       for_sale  NaN   NaN      9.11       Abington  Massachusetts    2351.0   \n",
            "3       for_sale  8.0   4.0      0.29       Abington  Massachusetts    2351.0   \n",
            "4       for_sale  3.0   2.0      0.20       Abington  Massachusetts    2351.0   \n",
            "...          ...  ...   ...       ...            ...            ...       ...   \n",
            "173474  for_sale  3.0   3.0      0.46  Yarmouth Port  Massachusetts    2675.0   \n",
            "173475  for_sale  3.0   2.0      0.34  Yarmouth Port  Massachusetts    2675.0   \n",
            "173476  for_sale  5.0   7.0      1.97  Yarmouth Port  Massachusetts    2675.0   \n",
            "173477  for_sale  3.0   2.0      0.28  Yarmouth Port  Massachusetts    2675.0   \n",
            "173478  for_sale  2.0   2.0       NaN  Yarmouth Port  Massachusetts    2675.0   \n",
            "\n",
            "        house_size prev_sold_date    price  \n",
            "0           1536.0     1990-01-26   525000  \n",
            "1            896.0     2007-05-31   269000  \n",
            "2              NaN            NaT   250000  \n",
            "3           3343.0            NaT   695000  \n",
            "4           1536.0     1990-01-26   525000  \n",
            "...            ...            ...      ...  \n",
            "173474      3500.0     2000-05-22  1050000  \n",
            "173475      1784.0            NaT   599000  \n",
            "173476      6182.0            NaT  3750000  \n",
            "173477      1192.0     2004-05-25   499000  \n",
            "173478      1108.0            NaT   449000  \n",
            "\n",
            "[173479 rows x 10 columns]>\n"
          ]
        }
      ]
    },
    {
      "cell_type": "code",
      "source": [],
      "metadata": {
        "id": "lBLZNJicaqQ5"
      },
      "execution_count": null,
      "outputs": []
    },
    {
      "cell_type": "code",
      "source": [
        "# Remove rows with missing values\n",
        "df = df.dropna()\n",
        "print(df.info)"
      ],
      "metadata": {
        "colab": {
          "base_uri": "https://localhost:8080/"
        },
        "id": "b1VektXrlP7t",
        "outputId": "08a38d5e-4c1d-42d7-fc09-f7ef2bc7a97f"
      },
      "execution_count": null,
      "outputs": [
        {
          "output_type": "stream",
          "name": "stdout",
          "text": [
            "<bound method DataFrame.info of           status  bed  bath  acre_lot           city          state  zip_code  \\\n",
            "0       for_sale  3.0   2.0      0.20       Abington  Massachusetts    2351.0   \n",
            "4       for_sale  3.0   2.0      0.20       Abington  Massachusetts    2351.0   \n",
            "5       for_sale  3.0   2.0      0.29       Abington  Massachusetts    2351.0   \n",
            "6       for_sale  3.0   2.0      0.45       Abington  Massachusetts    2351.0   \n",
            "11      for_sale  3.0   2.0      0.25       Abington  Massachusetts    2351.0   \n",
            "...          ...  ...   ...       ...            ...            ...       ...   \n",
            "173469  for_sale  5.0   2.0      1.01  Yarmouth Port  Massachusetts    2675.0   \n",
            "173471  for_sale  4.0   3.0      0.28  Yarmouth Port  Massachusetts    2675.0   \n",
            "173473  for_sale  3.0   2.0      0.46  Yarmouth Port  Massachusetts    2675.0   \n",
            "173474  for_sale  3.0   3.0      0.46  Yarmouth Port  Massachusetts    2675.0   \n",
            "173477  for_sale  3.0   2.0      0.28  Yarmouth Port  Massachusetts    2675.0   \n",
            "\n",
            "        house_size prev_sold_date    price  \n",
            "0           1536.0     1990-01-26   525000  \n",
            "4           1536.0     1990-01-26   525000  \n",
            "5           1575.0     2006-05-31   449900  \n",
            "6           1932.0     1985-06-03   649900  \n",
            "11          1860.0     2001-09-28   589900  \n",
            "...            ...            ...      ...  \n",
            "173469      1705.0     2007-09-14   695000  \n",
            "173471      2250.0     1997-07-31   550000  \n",
            "173473      2334.0     2008-12-01   749000  \n",
            "173474      3500.0     2000-05-22  1050000  \n",
            "173477      1192.0     2004-05-25   499000  \n",
            "\n",
            "[51530 rows x 10 columns]>\n"
          ]
        }
      ]
    },
    {
      "cell_type": "code",
      "source": [
        "uniqueCitiesZipcode=df[['city','zip_code']].drop_duplicates()\n",
        "print(uniqueCitiesZipcode)"
      ],
      "metadata": {
        "colab": {
          "base_uri": "https://localhost:8080/"
        },
        "id": "ULB8mBqIj5xQ",
        "outputId": "90893e6e-776f-4d1e-bcc3-3c929ec3483e"
      },
      "execution_count": null,
      "outputs": [
        {
          "output_type": "stream",
          "name": "stdout",
          "text": [
            "                 city  zip_code\n",
            "0            Abington    2351.0\n",
            "166             Acton    1720.0\n",
            "180             Acton    1718.0\n",
            "964          Acushnet    2743.0\n",
            "1061            Adams    1220.0\n",
            "...               ...       ...\n",
            "172848       Wrentham    2893.0\n",
            "173154       Yarmouth    2673.0\n",
            "173159       Yarmouth    2664.0\n",
            "173162       Yarmouth    2675.0\n",
            "173255  Yarmouth Port    2675.0\n",
            "\n",
            "[615 rows x 2 columns]\n"
          ]
        }
      ]
    },
    {
      "cell_type": "code",
      "source": [
        "# Get unique values from the city column\n",
        "unique_cities = df['city'].unique()\n",
        "print(unique_cities)\n",
        "print(len(unique_cities))"
      ],
      "metadata": {
        "colab": {
          "base_uri": "https://localhost:8080/"
        },
        "id": "BbBh5rfdnGhM",
        "outputId": "97378e12-0ea3-42f9-8925-e10c076bd871"
      },
      "execution_count": null,
      "outputs": [
        {
          "output_type": "stream",
          "name": "stdout",
          "text": [
            "['Abington' 'Acton' 'Adams' 'Agawam' 'Alford' 'Amesbury' 'Amherst'\n",
            " 'Andover' 'Arlington' 'Ashburnham' 'Ashby' 'Ashland' 'Athol' 'Attleboro'\n",
            " 'Auburn' 'Avon' 'Ayer' 'Barnstable' 'Barre' 'Becket' 'Bedford'\n",
            " 'Belchertown' 'Bellingham' 'Belmont' 'Berkley' 'Bernardston' 'Beverly'\n",
            " 'Billerica' 'Blackstone' 'Blandford' 'Bolton' 'Boston' 'Bourne'\n",
            " 'Bournedale' 'Boxborough' 'Boxford' 'Braintree' 'Brewster' 'Bridgewater'\n",
            " 'Brimfield' 'Brockton' 'Brookline' 'Buckland' 'Burlington' 'Buzzards Bay'\n",
            " 'Cambridge' 'Canton' 'Carlisle' 'Carver' 'Centerville' 'Charlton'\n",
            " 'Chatham' 'Chelmsford' 'Chelsea' 'Cheshire' 'Chester' 'Chicopee'\n",
            " 'Chilmark' 'Clarksburg' 'Clinton' 'Cohasset' 'Colrain' 'Concord' 'Cotuit'\n",
            " 'Cummaquid' 'Cummington' 'Dalton' 'Danvers' 'Dartmouth' 'Dedham'\n",
            " 'Deerfield' 'Dennis' 'Dennis Port' 'Dighton' 'Douglas' 'Dover' 'Dracut'\n",
            " 'Dudley' 'Dunstable' 'Duxbury' 'East Bridgewater' 'East Brookfield'\n",
            " 'East Dennis' 'East Falmouth' 'East Harwich' 'East Longmeadow'\n",
            " 'East Sandwich' 'East Wareham' 'Eastham' 'Easthampton' 'Easton'\n",
            " 'Edgartown' 'Egremont' 'Essex' 'Everett' 'Fairhaven' 'Fall River'\n",
            " 'Falmouth' 'Fitchburg' 'Florida' 'Forestdale' 'Foxboro' 'Framingham'\n",
            " 'Franklin' 'Freetown' 'Gardner' 'Georgetown' 'Gloucester' 'Grafton'\n",
            " 'Granby' 'Granville' 'Great Barrington' 'Greenfield' 'Groton' 'Hadley'\n",
            " 'Halifax' 'Hamilton' 'Hampden' 'Hancock' 'Hanover' 'Hanson' 'Hardwick'\n",
            " 'Harwich' 'Harwich Port' 'Haverhill' 'Hingham' 'Hinsdale' 'Holbrook'\n",
            " 'Holden' 'Holland' 'Holliston' 'Holyoke' 'Hopedale' 'Hopkinton'\n",
            " 'Hubbardston' 'Hudson' 'Hull' 'Huntington' 'Hyannis' 'Hyde Park'\n",
            " 'Ipswich' 'Kingston' 'Lakeville' 'Lancaster' 'Lanesborough' 'Lawrence'\n",
            " 'Lee' 'Leicester' 'Lenox' 'Leominster' 'Leverett' 'Lexington' 'Lincoln'\n",
            " 'Littleton' 'Longmeadow' 'Lowell' 'Ludlow' 'Lunenburg' 'Lynn' 'Lynnfield'\n",
            " 'Malden' 'Manchester' 'Mansfield' 'Marblehead' 'Marion' 'Marlborough'\n",
            " 'Marshfield' 'Marstons Mills' 'Mashpee' 'Mattapoisett' 'Maynard'\n",
            " 'Medfield' 'Medford' 'Medway' 'Melrose' 'Mendon' 'Merrimac' 'Methuen'\n",
            " 'Middleboro' 'Middleton' 'Milford' 'Millbury' 'Milton' 'Monson'\n",
            " 'Montague' 'Monterey' 'Mount Washington' 'Nahant' 'Nantucket' 'Natick'\n",
            " 'Needham' 'New Bedford' 'New Marlborough' 'New Seabury' 'Newbury'\n",
            " 'Newburyport' 'Newton' 'Norfolk' 'North Adams' 'North Andover'\n",
            " 'North Attleboro' 'North Brookfield' 'North Chatham' 'North Falmouth'\n",
            " 'North Reading' 'Northampton' 'Northborough' 'Northbridge' 'Norton'\n",
            " 'Norwell' 'Norwood' 'Oak Bluffs' 'Oakham' 'Orange' 'Orleans' 'Osterville'\n",
            " 'Otis' 'Oxford' 'Palmer' 'Paxton' 'Peabody' 'Pelham' 'Pembroke'\n",
            " 'Pepperell' 'Phillipston' 'Pittsfield' 'Plainfield' 'Plainville'\n",
            " 'Plymouth' 'Plympton' 'Pocasset' 'Popponesset' 'Princeton' 'Provincetown'\n",
            " 'Quincy' 'Randolph' 'Raynham' 'Reading' 'Rehoboth' 'Revere' 'Rochester'\n",
            " 'Rockland' 'Rockport' 'Rowley' 'Royalston' 'Russell' 'Rutland'\n",
            " 'Sagamore Beach' 'Salem' 'Salisbury' 'Sandisfield' 'Sandwich' 'Saugus'\n",
            " 'Savoy' 'Scituate' 'Seekonk' 'Sharon' 'Sheffield' 'Sherborn' 'Shirley'\n",
            " 'Shrewsbury' 'Somerset' 'Somerville' 'South Chatham' 'South Dennis'\n",
            " 'South Hadley' 'South Yarmouth' 'Southampton' 'Southborough'\n",
            " 'Southbridge' 'Southwick' 'Spencer' 'Springfield' 'Sterling'\n",
            " 'Stockbridge' 'Stoneham' 'Stoughton' 'Stow' 'Sturbridge' 'Sudbury'\n",
            " 'Sunderland' 'Sutton' 'Swampscott' 'Swansea' 'Taunton' 'Templeton'\n",
            " 'Tewksbury' 'Tisbury' 'Topsfield' 'Townsend' 'Truro' 'Tyngsborough'\n",
            " 'Tyringham' 'Upton' 'Uxbridge' 'Vineyard Haven' 'Wakefield' 'Wales'\n",
            " 'Walpole' 'Waltham' 'Ware' 'Wareham' 'Warren' 'Watertown' 'Wayland'\n",
            " 'Webster' 'Wellesley' 'Wellfleet' 'Wenham' 'West Barnstable'\n",
            " 'West Boylston' 'West Bridgewater' 'West Brookfield' 'West Dennis'\n",
            " 'West Falmouth' 'West Harwich' 'West Newbury' 'West Springfield'\n",
            " 'West Stockbridge' 'West Tisbury' 'West Wareham' 'West Yarmouth'\n",
            " 'Westborough' 'Westfield' 'Westford' 'Westminster' 'Weston' 'Westport'\n",
            " 'Westwood' 'Weymouth' 'Whately' 'Whitman' 'Wilbraham' 'Williamsburg'\n",
            " 'Williamstown' 'Wilmington' 'Winchendon' 'Winchester' 'Winthrop' 'Woburn'\n",
            " 'Woods Hole' 'Worcester' 'Worthington' 'Wrentham' 'Yarmouth'\n",
            " 'Yarmouth Port']\n",
            "346\n"
          ]
        }
      ]
    },
    {
      "cell_type": "code",
      "source": [
        "# Get unique values from the zip_code column\n",
        "unique_zipcodes = df['zip_code'].unique()\n",
        "print(unique_zipcodes)\n",
        "print(len(unique_zipcodes))"
      ],
      "metadata": {
        "colab": {
          "base_uri": "https://localhost:8080/"
        },
        "id": "17l8jMIxoDSk",
        "outputId": "296dbf0a-fbfa-451c-ed54-65f7bf25960a"
      },
      "execution_count": null,
      "outputs": [
        {
          "output_type": "stream",
          "name": "stdout",
          "text": [
            "[2351. 1720. 1220. 1001. 1030. 1230. 1266. 1913. 1002. 1810. 2476. 2474.\n",
            " 1430. 1431. 1721. 1331. 2703. 1501. 2322. 1432. 2648. 2601. 2655. 2632.\n",
            " 2630. 1005. 1223. 1730. 1007. 2019. 2478. 2779. 1337. 1915. 1862. 1821.\n",
            " 1504. 1008. 1740. 2135. 2130. 2131. 2115. 2108. 2116. 2114. 2215. 2129.\n",
            " 2134. 2467. 2199. 2119. 2120. 2132. 2121. 2118. 2124. 2128. 2111. 2125.\n",
            " 2127. 2109. 2136. 2110. 2122. 2113. 2126. 2210. 2532. 2559. 2562. 1719.\n",
            " 1921. 2184. 2631. 2324. 1010. 2301. 2302. 2446. 2445. 1339. 1803. 2138.\n",
            " 2141. 2140. 2139. 2021. 1741. 2330. 1507. 2633. 1824. 2150. 1225. 1011.\n",
            " 1020. 1013. 2535. 1247. 1510. 2025. 1340. 1742. 2635. 2675. 1026. 1226.\n",
            " 1923. 2747. 2748. 2026. 1373. 2638. 2639. 2715. 1516. 2030. 1826. 1571.\n",
            " 1827. 2332. 2333. 1515. 2641. 2536. 2645. 1028. 2537. 2538. 2642. 1027.\n",
            " 2356. 2375. 2539. 1929. 2149. 2719. 2720. 2721. 2723. 2724. 2540. 2556.\n",
            " 1420. 2644. 2035. 1701. 1702. 2038. 2717. 1440. 1833. 1930. 1560. 1536.\n",
            " 1033. 1034. 1301. 1450. 1035. 2338. 1982. 1036. 1237. 2339. 2341. 1031.\n",
            " 2646. 1830. 1832. 1835. 2043. 1235. 2343. 1520. 1521. 1746. 1040. 1747.\n",
            " 1748. 1452. 1749. 2045. 1050. 1938. 2364. 2347. 1523. 1841. 1843. 1840.\n",
            " 1238. 1524. 1240. 1453. 1054. 2420. 2421. 1773. 1460. 1106. 1854. 1851.\n",
            " 1852. 1850. 1056. 1462. 1901. 1902. 1904. 1905. 1940. 2148. 1944. 2048.\n",
            " 1945. 2738. 1752. 2050. 2649. 2739. 1754. 2052. 2155. 2053. 2176. 1756.\n",
            " 1860. 1844. 2346. 1949. 1757. 1527. 2186. 1057. 1351. 1258. 1908. 2554.\n",
            " 1760. 2492. 2494. 2745. 2740. 2746. 2744. 1259. 1951. 1922. 1950. 2458.\n",
            " 2465. 2468. 2460. 2459. 2461. 2462. 2466. 2464. 2056. 1845. 2760. 1535.\n",
            " 2650. 1864. 1062. 1060. 1532. 1534. 1588. 2766. 2061. 2062. 2557. 2568.\n",
            " 1068. 1364. 2653. 1253. 1540. 1537. 1069. 1612. 1960. 2359. 1463. 1201.\n",
            " 1070. 2762. 2360. 2367. 1541. 2657. 2169. 2171. 2170. 2368. 2767. 1867.\n",
            " 2769. 2151. 2770. 2370. 1966. 1969. 1368. 1071. 1543. 1970. 1952. 1255.\n",
            " 2563. 1906. 1256. 2066. 2771. 2067. 1257. 1222. 1770. 1464. 1545. 2726.\n",
            " 2725. 2145. 2143. 2144. 2659. 2660. 1075. 2664. 1073. 1772. 1550. 1077.\n",
            " 1562. 1104. 1105. 1118. 1108. 1129. 1151. 1109. 1107. 1119. 1128. 1564.\n",
            " 1262. 2180. 2072. 1775. 1566. 1518. 1776. 1375. 1590. 1907. 2777. 2780.\n",
            " 2718. 1436. 1468. 1876. 1983. 1469. 1474. 2666. 1879. 1264. 1568. 1569.\n",
            " 1880. 1081. 2032. 2081. 2451. 2453. 2452. 1082. 2571. 1092. 2472. 1778.\n",
            " 1570. 2482. 2481. 2667. 1984. 2668. 1583. 2379. 1585. 2670. 2671. 1985.\n",
            " 1089. 2575. 2576. 2673. 1581. 1085. 1886. 1473. 2493. 2790. 2791. 2090.\n",
            " 2188. 2189. 2190. 2191. 1093. 2382. 1095. 1038. 1096. 1267. 1887. 1475.\n",
            " 1890. 2152. 1801. 1604. 1602. 1610. 1605. 1603. 1606. 1607. 1609. 1098.\n",
            " 2093.]\n",
            "433\n"
          ]
        }
      ]
    },
    {
      "cell_type": "code",
      "source": [
        "df['crime_index'] = np.zeros(len(df))\n",
        "\n",
        "crime_index_dict = {\n",
        "  'Abington': 1074,\n",
        "  'Acton': 474,\n",
        "  'Adams': 1502,\n",
        "  'Agawam': 666,\n",
        "  'Alford': 1935,\n",
        "  'Amesbury': 821,\n",
        "  'Amherst': 833,\n",
        "  'Andover': 423,\n",
        "  'Arlington': 652,\n",
        "  'Ashburnham': 675,\n",
        "  'Ashby': 646,\n",
        "  'Ashland': 518,\n",
        "  'Athol': 1377,\n",
        "  'Attleboro': 1114,\n",
        "  'Auburn': 1370,\n",
        "  'Avon': 1508,\n",
        "  'Ayer': 1250,\n",
        "  'Barnstable': 1929,\n",
        "  'Barre': 1038,\n",
        "  'Becket': 1062,\n",
        "  'Bedford': 328,\n",
        "  'Belchertown': 622,\n",
        "  'Bellingham': 771,\n",
        "  'Belmont': 553,\n",
        "  'Berkley': 553,\n",
        "  'Bernardston': 477,\n",
        "  'Beverly': 840,\n",
        "  'Billerica': 556,\n",
        "  'Blackstone': 686,\n",
        "  'Blandford': 482,\n",
        "  'Bolton': 550,\n",
        "  'Boston': 2609,\n",
        "  'Bourne': 1597,\n",
        "  'Bournedale': 1597,\n",
        "  'Boxborough': 425,\n",
        "  'Boxford': 164,\n",
        "  'Braintree': 1026,\n",
        "  'Brewster': 789,\n",
        "  'Bridgewater': 489,\n",
        "  'Brimfield': 243,\n",
        "  'Brockton': 2605,\n",
        "  'Brookline': 664,\n",
        "  'Buckland': 531,\n",
        "  'Burlington': 1028,\n",
        "  'Buzzards Bay': 1597,\n",
        "  'Cambridge': 1512,\n",
        "  'Canton': 603,\n",
        "  'Carlisle': 167,\n",
        "  'Carver': 791,\n",
        "  'Centerville': 1929,\n",
        "  'Charlton': 591,\n",
        "  'Chatham': 954,\n",
        "  'Chelmsford': 610,\n",
        "  'Chelsea': 3483,\n",
        "  'Cheshire': 154,\n",
        "  'Chester': 476,\n",
        "  'Chicopee': 1820,\n",
        "  'Chilmark': 658,\n",
        "  'Clarksburg': 1935,\n",
        "  'Clinton': 238,\n",
        "  'Cohasset': 553,\n",
        "  'Colrain': 3621,\n",
        "  'Concord': 443,\n",
        "  'Cotuit': 1929,\n",
        "  'Cummaquid': 1929,\n",
        "  'Cummington': 389,\n",
        "  'Dalton': 748,\n",
        "  'Danvers': 1171,\n",
        "  'Dartmouth': 1248,\n",
        "  'Dedham': 812,\n",
        "  'Deerfield': 996,\n",
        "  'Dennis': 1911,\n",
        "  'Dennis Port': ,\n",
        "  'Dighton': ,\n",
        "  'Douglas': ,\n",
        "  'Dover': ,\n",
        "  'Dracut': ,\n",
        "  'Dudley': ,\n",
        "  'Dunstable': ,\n",
        "  'Duxbury': ,\n",
        "  'East Bridgewater': ,\n",
        "  'East Brookfield': ,\n",
        "  'East Dennis': ,\n",
        "  'East Falmouth': ,\n",
        "  'East Harwich': ,\n",
        "  'East Longmeadow': ,\n",
        "  'East Sandwich': ,\n",
        "  'East Wareham': ,\n",
        "  'Eastham': ,\n",
        "  'Easthampton': ,\n",
        "  'Easton': ,\n",
        "  'Edgartown': ,\n",
        "  'Egremont': ,\n",
        "  'Essex': ,\n",
        "  'Everett': ,\n",
        "  'Fairhaven': ,\n",
        "  'Fall River'\n",
        " 'Falmouth' 'Fitchburg' 'Florida' 'Forestdale' 'Foxboro' 'Framingham'\n",
        " 'Franklin' 'Freetown' 'Gardner' 'Georgetown' 'Gloucester' 'Grafton'\n",
        " 'Granby' 'Granville' 'Great Barrington' 'Greenfield' 'Groton' 'Hadley'\n",
        " 'Halifax' 'Hamilton' 'Hampden' 'Hancock' 'Hanover' 'Hanson' 'Hardwick'\n",
        " 'Harwich' 'Harwich Port' 'Haverhill' 'Hingham' 'Hinsdale' 'Holbrook'\n",
        " 'Holden' 'Holland' 'Holliston' 'Holyoke' 'Hopedale' 'Hopkinton'\n",
        " 'Hubbardston' 'Hudson' 'Hull' 'Huntington' 'Hyannis' 'Hyde Park'\n",
        " 'Ipswich' 'Kingston' 'Lakeville' 'Lancaster' 'Lanesborough' 'Lawrence'\n",
        " 'Lee' 'Leicester' 'Lenox' 'Leominster' 'Leverett' 'Lexington' 'Lincoln'\n",
        " 'Littleton' 'Longmeadow' 'Lowell' 'Ludlow' 'Lunenburg' 'Lynn' 'Lynnfield'\n",
        " 'Malden' 'Manchester' 'Mansfield' 'Marblehead' 'Marion' 'Marlborough'\n",
        " 'Marshfield' 'Marstons Mills' 'Mashpee' 'Mattapoisett' 'Maynard'\n",
        " 'Medfield' 'Medford' 'Medway' 'Melrose' 'Mendon' 'Merrimac' 'Methuen'\n",
        " 'Middleboro' 'Middleton' 'Milford' 'Millbury' 'Milton' 'Monson'\n",
        " 'Montague' 'Monterey' 'Mount Washington' 'Nahant' 'Nantucket' 'Natick'\n",
        " 'Needham' 'New Bedford' 'New Marlborough' 'New Seabury' 'Newbury'\n",
        " 'Newburyport' 'Newton' 'Norfolk' 'North Adams' 'North Andover'\n",
        " 'North Attleboro' 'North Brookfield' 'North Chatham' 'North Falmouth'\n",
        " 'North Reading' 'Northampton' 'Northborough' 'Northbridge' 'Norton'\n",
        " 'Norwell' 'Norwood' 'Oak Bluffs' 'Oakham' 'Orange' 'Orleans' 'Osterville'\n",
        " 'Otis' 'Oxford' 'Palmer' 'Paxton' 'Peabody' 'Pelham' 'Pembroke'\n",
        " 'Pepperell' 'Phillipston' 'Pittsfield' 'Plainfield' 'Plainville'\n",
        " 'Plymouth' 'Plympton' 'Pocasset' 'Popponesset' 'Princeton' 'Provincetown'\n",
        " 'Quincy' 'Randolph' 'Raynham' 'Reading' 'Rehoboth' 'Revere' 'Rochester'\n",
        " 'Rockland' 'Rockport' 'Rowley' 'Royalston' 'Russell' 'Rutland'\n",
        " 'Sagamore Beach' 'Salem' 'Salisbury' 'Sandisfield' 'Sandwich' 'Saugus'\n",
        " 'Savoy' 'Scituate' 'Seekonk' 'Sharon' 'Sheffield' 'Sherborn' 'Shirley'\n",
        " 'Shrewsbury' 'Somerset' 'Somerville' 'South Chatham' 'South Dennis'\n",
        " 'South Hadley' 'South Yarmouth' 'Southampton' 'Southborough'\n",
        " 'Southbridge' 'Southwick' 'Spencer' 'Springfield' 'Sterling'\n",
        " 'Stockbridge' 'Stoneham' 'Stoughton' 'Stow' 'Sturbridge' 'Sudbury'\n",
        " 'Sunderland' 'Sutton' 'Swampscott' 'Swansea' 'Taunton' 'Templeton'\n",
        " 'Tewksbury' 'Tisbury' 'Topsfield' 'Townsend' 'Truro' 'Tyngsborough'\n",
        " 'Tyringham' 'Upton' 'Uxbridge' 'Vineyard Haven' 'Wakefield' 'Wales'\n",
        " 'Walpole' 'Waltham' 'Ware' 'Wareham' 'Warren' 'Watertown' 'Wayland'\n",
        " 'Webster' 'Wellesley' 'Wellfleet' 'Wenham' 'West Barnstable'\n",
        " 'West Boylston' 'West Bridgewater' 'West Brookfield' 'West Dennis'\n",
        " 'West Falmouth' 'West Harwich' 'West Newbury' 'West Springfield'\n",
        " 'West Stockbridge' 'West Tisbury' 'West Wareham' 'West Yarmouth'\n",
        " 'Westborough' 'Westfield' 'Westford' 'Westminster' 'Weston' 'Westport'\n",
        " 'Westwood' 'Weymouth' 'Whately' 'Whitman' 'Wilbraham' 'Williamsburg'\n",
        " 'Williamstown' 'Wilmington' 'Winchendon' 'Winchester' 'Winthrop' 'Woburn'\n",
        " 'Woods Hole' 'Worcester' 'Worthington' 'Wrentham' 'Yarmouth'\n",
        " 'Yarmouth Port'\n",
        "}\n",
        "\n",
        "df['crime_index'] = df['city'].map(crime_index_dict)\n",
        "\n",
        "print(df.info)"
      ],
      "metadata": {
        "colab": {
          "base_uri": "https://localhost:8080/"
        },
        "id": "zw5rnULYYHb6",
        "outputId": "d860fabd-1e3f-44ad-d2ee-d6f18830218e"
      },
      "execution_count": null,
      "outputs": [
        {
          "output_type": "stream",
          "name": "stdout",
          "text": [
            "<bound method DataFrame.info of           status  bed  bath  acre_lot           city          state  zip_code  \\\n",
            "0       for_sale  3.0   2.0      0.20       Abington  Massachusetts    2351.0   \n",
            "4       for_sale  3.0   2.0      0.20       Abington  Massachusetts    2351.0   \n",
            "5       for_sale  3.0   2.0      0.29       Abington  Massachusetts    2351.0   \n",
            "6       for_sale  3.0   2.0      0.45       Abington  Massachusetts    2351.0   \n",
            "11      for_sale  3.0   2.0      0.25       Abington  Massachusetts    2351.0   \n",
            "...          ...  ...   ...       ...            ...            ...       ...   \n",
            "173469  for_sale  5.0   2.0      1.01  Yarmouth Port  Massachusetts    2675.0   \n",
            "173471  for_sale  4.0   3.0      0.28  Yarmouth Port  Massachusetts    2675.0   \n",
            "173473  for_sale  3.0   2.0      0.46  Yarmouth Port  Massachusetts    2675.0   \n",
            "173474  for_sale  3.0   3.0      0.46  Yarmouth Port  Massachusetts    2675.0   \n",
            "173477  for_sale  3.0   2.0      0.28  Yarmouth Port  Massachusetts    2675.0   \n",
            "\n",
            "        house_size prev_sold_date    price  crime_index  \n",
            "0           1536.0     1990-01-26   525000       1074.0  \n",
            "4           1536.0     1990-01-26   525000       1074.0  \n",
            "5           1575.0     2006-05-31   449900       1074.0  \n",
            "6           1932.0     1985-06-03   649900       1074.0  \n",
            "11          1860.0     2001-09-28   589900       1074.0  \n",
            "...            ...            ...      ...          ...  \n",
            "173469      1705.0     2007-09-14   695000          NaN  \n",
            "173471      2250.0     1997-07-31   550000          NaN  \n",
            "173473      2334.0     2008-12-01   749000          NaN  \n",
            "173474      3500.0     2000-05-22  1050000          NaN  \n",
            "173477      1192.0     2004-05-25   499000          NaN  \n",
            "\n",
            "[51530 rows x 11 columns]>\n"
          ]
        }
      ]
    }
  ]
}